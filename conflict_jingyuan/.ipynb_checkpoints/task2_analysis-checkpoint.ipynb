{
 "cells": [
  {
   "cell_type": "code",
   "execution_count": 6,
   "metadata": {
    "collapsed": true
   },
   "outputs": [],
   "source": [
    "import numpy as np\n",
    "import xarray as xr\n",
    "import pandas as pd"
   ]
  },
  {
   "cell_type": "code",
   "execution_count": 7,
   "metadata": {},
   "outputs": [
    {
     "data": {
      "text/plain": [
       "<function pandas.io.stata.read_stata>"
      ]
     },
     "execution_count": 7,
     "metadata": {},
     "output_type": "execute_result"
    }
   ],
   "source": [
    "pd.read_stata"
   ]
  },
  {
   "cell_type": "code",
   "execution_count": 20,
   "metadata": {
    "scrolled": true
   },
   "outputs": [
    {
     "name": "stdout",
     "output_type": "stream",
     "text": [
      "./pwt_income_adm1.dta\n"
     ]
    }
   ],
   "source": [
    "import os\n",
    "os.listdir()\n",
    "filename='pwt_income_adm1.dta'\n",
    "#filepath = os.getcwd() + \"/{0}\".format(filename)\n",
    "filepath = \".\"+ \"/{0}\".format(filename)\n",
    "\n",
    "print (filepath)"
   ]
  },
  {
   "cell_type": "code",
   "execution_count": 23,
   "metadata": {},
   "outputs": [
    {
     "data": {
      "text/html": [
       "<div>\n",
       "<style>\n",
       "    .dataframe thead tr:only-child th {\n",
       "        text-align: right;\n",
       "    }\n",
       "\n",
       "    .dataframe thead th {\n",
       "        text-align: left;\n",
       "    }\n",
       "\n",
       "    .dataframe tbody tr th {\n",
       "        vertical-align: top;\n",
       "    }\n",
       "</style>\n",
       "<table border=\"1\" class=\"dataframe\">\n",
       "  <thead>\n",
       "    <tr style=\"text-align: right;\">\n",
       "      <th></th>\n",
       "      <th>year</th>\n",
       "      <th>gdppccountry</th>\n",
       "      <th>gdppcstate</th>\n",
       "      <th>gdppc_adm0_PWT</th>\n",
       "      <th>gdppcstate_rescaled</th>\n",
       "    </tr>\n",
       "  </thead>\n",
       "  <tbody>\n",
       "    <tr>\n",
       "      <th>count</th>\n",
       "      <td>88358.000000</td>\n",
       "      <td>9479.000000</td>\n",
       "      <td>9479.000000</td>\n",
       "      <td>88280.000000</td>\n",
       "      <td>57107.000000</td>\n",
       "    </tr>\n",
       "    <tr>\n",
       "      <th>mean</th>\n",
       "      <td>1985.220116</td>\n",
       "      <td>12853.722656</td>\n",
       "      <td>11863.801758</td>\n",
       "      <td>13614.154297</td>\n",
       "      <td>15259.715820</td>\n",
       "    </tr>\n",
       "    <tr>\n",
       "      <th>std</th>\n",
       "      <td>18.224983</td>\n",
       "      <td>11655.899414</td>\n",
       "      <td>11882.170898</td>\n",
       "      <td>15113.656250</td>\n",
       "      <td>15098.367188</td>\n",
       "    </tr>\n",
       "    <tr>\n",
       "      <th>min</th>\n",
       "      <td>1950.000000</td>\n",
       "      <td>365.323792</td>\n",
       "      <td>188.968506</td>\n",
       "      <td>161.594772</td>\n",
       "      <td>228.565933</td>\n",
       "    </tr>\n",
       "    <tr>\n",
       "      <th>25%</th>\n",
       "      <td>1970.000000</td>\n",
       "      <td>4378.643066</td>\n",
       "      <td>3032.363525</td>\n",
       "      <td>4181.044434</td>\n",
       "      <td>5059.138428</td>\n",
       "    </tr>\n",
       "    <tr>\n",
       "      <th>50%</th>\n",
       "      <td>1987.000000</td>\n",
       "      <td>8065.569824</td>\n",
       "      <td>6865.508789</td>\n",
       "      <td>9317.794922</td>\n",
       "      <td>10263.880859</td>\n",
       "    </tr>\n",
       "    <tr>\n",
       "      <th>75%</th>\n",
       "      <td>2001.000000</td>\n",
       "      <td>20244.890625</td>\n",
       "      <td>18713.495117</td>\n",
       "      <td>17801.166016</td>\n",
       "      <td>21583.263672</td>\n",
       "    </tr>\n",
       "    <tr>\n",
       "      <th>max</th>\n",
       "      <td>2014.000000</td>\n",
       "      <td>105184.203125</td>\n",
       "      <td>166007.296875</td>\n",
       "      <td>238585.437500</td>\n",
       "      <td>317208.687500</td>\n",
       "    </tr>\n",
       "  </tbody>\n",
       "</table>\n",
       "</div>"
      ],
      "text/plain": [
       "               year   gdppccountry     gdppcstate  gdppc_adm0_PWT  \\\n",
       "count  88358.000000    9479.000000    9479.000000    88280.000000   \n",
       "mean    1985.220116   12853.722656   11863.801758    13614.154297   \n",
       "std       18.224983   11655.899414   11882.170898    15113.656250   \n",
       "min     1950.000000     365.323792     188.968506      161.594772   \n",
       "25%     1970.000000    4378.643066    3032.363525     4181.044434   \n",
       "50%     1987.000000    8065.569824    6865.508789     9317.794922   \n",
       "75%     2001.000000   20244.890625   18713.495117    17801.166016   \n",
       "max     2014.000000  105184.203125  166007.296875   238585.437500   \n",
       "\n",
       "       gdppcstate_rescaled  \n",
       "count         57107.000000  \n",
       "mean          15259.715820  \n",
       "std           15098.367188  \n",
       "min             228.565933  \n",
       "25%            5059.138428  \n",
       "50%           10263.880859  \n",
       "75%           21583.263672  \n",
       "max          317208.687500  "
      ]
     },
     "execution_count": 23,
     "metadata": {},
     "output_type": "execute_result"
    }
   ],
   "source": [
    "dt = pd.read_stata(filepath)\n",
    "dt.describe()"
   ]
  },
  {
   "cell_type": "code",
   "execution_count": 35,
   "metadata": {},
   "outputs": [
    {
     "data": {
      "text/plain": [
       "31251"
      ]
     },
     "execution_count": 35,
     "metadata": {},
     "output_type": "execute_result"
    }
   ],
   "source": [
    "dt['gdppccountry'].value_counts()\n",
    "dt['gdppccountry'].isnull().sum()\n",
    "\n",
    "dt['gdppcstate_rescaled'].isnull().sum()\n"
   ]
  },
  {
   "cell_type": "code",
   "execution_count": 33,
   "metadata": {},
   "outputs": [
    {
     "data": {
      "text/plain": [
       "countryname                0\n",
       "countrycode                0\n",
       "region                     0\n",
       "year                       0\n",
       "gdppccountry           78879\n",
       "gdppcstate             78879\n",
       "gdppc_adm0_PWT            78\n",
       "gdppcstate_rescaled    31251\n",
       "dtype: int64"
      ]
     },
     "execution_count": 33,
     "metadata": {},
     "output_type": "execute_result"
    }
   ],
   "source": [
    "# Count NAN\n",
    "count_nan = len(dt) - dt.count()\n",
    "count_nan\n"
   ]
  },
  {
   "cell_type": "code",
   "execution_count": 42,
   "metadata": {},
   "outputs": [
    {
     "data": {
      "text/html": [
       "<div>\n",
       "<style>\n",
       "    .dataframe thead tr:only-child th {\n",
       "        text-align: right;\n",
       "    }\n",
       "\n",
       "    .dataframe thead th {\n",
       "        text-align: left;\n",
       "    }\n",
       "\n",
       "    .dataframe tbody tr th {\n",
       "        vertical-align: top;\n",
       "    }\n",
       "</style>\n",
       "<table border=\"1\" class=\"dataframe\">\n",
       "  <thead>\n",
       "    <tr style=\"text-align: right;\">\n",
       "      <th></th>\n",
       "      <th>countryname</th>\n",
       "      <th>countrycode</th>\n",
       "      <th>region</th>\n",
       "      <th>year</th>\n",
       "      <th>gdppccountry</th>\n",
       "      <th>gdppcstate</th>\n",
       "      <th>gdppc_adm0_PWT</th>\n",
       "      <th>gdppcstate_rescaled</th>\n",
       "    </tr>\n",
       "  </thead>\n",
       "  <tbody>\n",
       "  </tbody>\n",
       "</table>\n",
       "</div>"
      ],
      "text/plain": [
       "Empty DataFrame\n",
       "Columns: [countryname, countrycode, region, year, gdppccountry, gdppcstate, gdppc_adm0_PWT, gdppcstate_rescaled]\n",
       "Index: []"
      ]
     },
     "execution_count": 42,
     "metadata": {},
     "output_type": "execute_result"
    }
   ],
   "source": [
    "dt['gdppcstate_rescaled']\n",
    "dt[1:100]\n",
    "\n",
    "df = dt\n",
    "df.loc[df['gdppcstate_rescaled'] == np.nan]\n"
   ]
  },
  {
   "cell_type": "code",
   "execution_count": 52,
   "metadata": {},
   "outputs": [
    {
     "data": {
      "text/plain": [
       "nan"
      ]
     },
     "execution_count": 52,
     "metadata": {},
     "output_type": "execute_result"
    }
   ],
   "source": [
    "df['gdppcstate_rescaled'][1]"
   ]
  },
  {
   "cell_type": "code",
   "execution_count": null,
   "metadata": {
    "collapsed": true
   },
   "outputs": [],
   "source": []
  }
 ],
 "metadata": {
  "kernelspec": {
   "display_name": "Python 3",
   "language": "python",
   "name": "python3"
  },
  "language_info": {
   "codemirror_mode": {
    "name": "ipython",
    "version": 3
   },
   "file_extension": ".py",
   "mimetype": "text/x-python",
   "name": "python",
   "nbconvert_exporter": "python",
   "pygments_lexer": "ipython3",
   "version": "3.6.3"
  }
 },
 "nbformat": 4,
 "nbformat_minor": 2
}
